{
 "cells": [
  {
   "cell_type": "markdown",
   "metadata": {},
   "source": [
    "<h1 style='color: green; font-size: 36px; font-weight: bold;'>Data Science - Regressão Linear</h1>"
   ]
  },
  {
   "cell_type": "markdown",
   "metadata": {},
   "source": [
    "## Importando nosso modelo"
   ]
  },
  {
   "cell_type": "code",
   "execution_count": 2,
   "metadata": {},
   "outputs": [
    {
     "name": "stdout",
     "output_type": "stream",
     "text": [
      "$ 46389.80\n"
     ]
    }
   ],
   "source": [
    "import pickle\n",
    "\n",
    "modelo = open(\"modelo_imoveis\",\"rb\") \n",
    "lm_new = pickle.load(modelo)\n",
    "modelo.close()\n",
    "\n",
    "area = 38\n",
    "garagem = 2\n",
    "banheiros = 4\n",
    "lareira = 4\n",
    "marmore = 0\n",
    "andares = 1\n",
    "\n",
    "entrada = [[area, garagem, banheiros, lareira, marmore, andares]]\n",
    "\n",
    "print('$ {0:.2f}'.format(lm_new.predict(entrada)[0]))"
   ]
  },
  {
   "cell_type": "code",
   "execution_count": 3,
   "metadata": {},
   "outputs": [],
   "source": [
    "# Importando bibliotecas\n",
    "from ipywidgets import widgets, HBox, VBox\n",
    "from IPython.display import display\n",
    "\n",
    "# Criando os controles do formulário\n",
    "area = widgets.Text(description=\"Área\")\n",
    "garagem = widgets.Text(description=\"Garagem\")\n",
    "banheiros = widgets.Text(description=\"Banheiros\")\n",
    "lareira = widgets.Text(description=\"Lareira\")\n",
    "marmore = widgets.Text(description=\"Mármore?\")\n",
    "andares = widgets.Text(description=\"Andares?\")\n",
    "\n",
    "botao = widgets.Button(description=\"Simular\")\n",
    "\n",
    "# Posicionando os controles\n",
    "left = VBox([area, banheiros, marmore])\n",
    "right = VBox([garagem, lareira, andares])\n",
    "inputs = HBox([left, right])\n",
    "\n",
    "# Função de simulação\n",
    "def simulador(sender):\n",
    "    entrada=[[\n",
    "                float(area.value if area.value else 0), \n",
    "                float(garagem.value if garagem.value else 0), \n",
    "                float(banheiros.value if banheiros.value else 0), \n",
    "                float(lareira.value if lareira.value else 0), \n",
    "                float(marmore.value if marmore.value else 0), \n",
    "                float(andares.value if andares.value else 0)\n",
    "             ]]\n",
    "    print('$ {0:.2f}'.format(lm_new.predict(entrada)[0]))\n",
    "    \n",
    "# Atribuindo a função \"simulador\" ao evento click do botão\n",
    "botao.on_click(simulador)    "
   ]
  },
  {
   "cell_type": "code",
   "execution_count": 4,
   "metadata": {},
   "outputs": [
    {
     "data": {
      "application/vnd.jupyter.widget-view+json": {
       "model_id": "7dc10478c1014e65b920baca03a4caaa",
       "version_major": 2,
       "version_minor": 0
      },
      "text/plain": [
       "HBox(children=(VBox(children=(Text(value='', description='Área'), Text(value='', description='Banheiros'), Tex…"
      ]
     },
     "metadata": {},
     "output_type": "display_data"
    },
    {
     "data": {
      "application/vnd.jupyter.widget-view+json": {
       "model_id": "5d28c72da2e847efb0cb9c4310bc19c4",
       "version_major": 2,
       "version_minor": 0
      },
      "text/plain": [
       "Button(description='Simular', style=ButtonStyle())"
      ]
     },
     "metadata": {},
     "output_type": "display_data"
    }
   ],
   "source": [
    "display(inputs, botao)"
   ]
  },
  {
   "cell_type": "code",
   "execution_count": null,
   "metadata": {},
   "outputs": [],
   "source": []
  },
  {
   "cell_type": "code",
   "execution_count": null,
   "metadata": {},
   "outputs": [],
   "source": []
  }
 ],
 "metadata": {
  "kernelspec": {
   "display_name": "Python 3 (ipykernel)",
   "language": "python",
   "name": "python3"
  },
  "language_info": {
   "codemirror_mode": {
    "name": "ipython",
    "version": 3
   },
   "file_extension": ".py",
   "mimetype": "text/x-python",
   "name": "python",
   "nbconvert_exporter": "python",
   "pygments_lexer": "ipython3",
   "version": "3.9.7"
  }
 },
 "nbformat": 4,
 "nbformat_minor": 2
}
